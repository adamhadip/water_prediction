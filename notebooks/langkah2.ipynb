{
 "cells": [
  {
   "cell_type": "code",
   "execution_count": 12,
   "metadata": {},
   "outputs": [],
   "source": [
    "import yaml\n",
    "import joblib as jb\n",
    "import pandas as pd\n",
    "from imblearn.over_sampling import SMOTE\n",
    "from sklearn.preprocessing import StandardScaler"
   ]
  },
  {
   "cell_type": "code",
   "execution_count": 13,
   "metadata": {},
   "outputs": [
    {
     "data": {
      "text/plain": [
       "{'data_raw': 'A:/projectwater/data/raw/water_potability.csv',\n",
       " 'data_final': 'A:/projectwater/data/process/ori_new.pkl',\n",
       " 'path_train': ['A:/projectwater/data/process/x_train.pkl',\n",
       "  'A:/projectwater/data/process/y_train.pkl'],\n",
       " 'path_valid': ['A:/projectwater/data/process/x_valid.pkl',\n",
       "  'A:/projectwater/data/process/y_valid.pkl'],\n",
       " 'path_test': ['A:/projectwater/data/process/x_test.pkl',\n",
       "  'A:/projectwater/data/process/y_test.pkl'],\n",
       " 'path_train_feat': ['A:/projectwater/data/process/x_train_feat.pkl',\n",
       "  'A:/projectwater/data/process/y_train_feat.pkl'],\n",
       " 'path_valid_feat': ['A:/projectwater/data/process/x_valid_feat.pkl',\n",
       "  'A:/projectwater/data/process/y_valid_feat.pkl'],\n",
       " 'path_test_feat': ['A:/projectwater/data/process/x_test_feat.pkl',\n",
       "  'A:/projectwater/data/process/y_test_feat.pkl'],\n",
       " 'final_model_path': 'A:/projectwater/models/production_model.pkl',\n",
       " 'training_log_path': 'A:/projectwater/log/training_log.json',\n",
       " 'new_cols': ['ph',\n",
       "  'hardness',\n",
       "  'solids',\n",
       "  'chloramines',\n",
       "  'sulfate',\n",
       "  'conductivity',\n",
       "  'organic_carbon',\n",
       "  'trihalomethes',\n",
       "  'turbidity',\n",
       "  'potability'],\n",
       " 'int_columns': ['potability'],\n",
       " 'float_columns': ['ph',\n",
       "  'hardness',\n",
       "  'solids',\n",
       "  'chloramines',\n",
       "  'sulfate',\n",
       "  'conductivity',\n",
       "  'organic_carbon',\n",
       "  'trihalomethes',\n",
       "  'turbidity'],\n",
       " 'target': 'potability',\n",
       " 'predictors': ['ph',\n",
       "  'hardness',\n",
       "  'solids',\n",
       "  'chloramines',\n",
       "  'sulfate',\n",
       "  'conductivity',\n",
       "  'organic_carbon',\n",
       "  'trihalomethes',\n",
       "  'turbidity'],\n",
       " 'test_size': 0.2,\n",
       " 'valid_size': 0.5}"
      ]
     },
     "execution_count": 13,
     "metadata": {},
     "output_type": "execute_result"
    }
   ],
   "source": [
    "with open('A:/projectwater/config/config.yaml') as file:\n",
    "    config = yaml.safe_load(file)\n",
    "config"
   ]
  },
  {
   "cell_type": "code",
   "execution_count": 14,
   "metadata": {},
   "outputs": [],
   "source": [
    "x_train = jb.load('A:/projectwater/data/process/x_train.pkl')\n",
    "y_train = jb.load('A:/projectwater/data/process/y_train.pkl')\n",
    "x_test = jb.load('A:/projectwater/data/process/x_test.pkl')\n",
    "y_test = jb.load('A:/projectwater/data/process/y_test.pkl')\n",
    "x_valid = jb.load('A:/projectwater/data/process/x_valid.pkl')\n",
    "y_valid = jb.load('A:/projectwater/data/process/y_valid.pkl')"
   ]
  },
  {
   "cell_type": "code",
   "execution_count": 15,
   "metadata": {},
   "outputs": [],
   "source": [
    "scaler = StandardScaler()\n",
    "x_train_scaled = scaler.fit_transform(x_train)\n",
    "x_test_scaled = scaler.transform(x_test)"
   ]
  },
  {
   "cell_type": "code",
   "execution_count": 16,
   "metadata": {},
   "outputs": [
    {
     "ename": "AttributeError",
     "evalue": "'list' object has no attribute 'shape'",
     "output_type": "error",
     "traceback": [
      "\u001b[1;31m---------------------------------------------------------------------------\u001b[0m",
      "\u001b[1;31mAttributeError\u001b[0m                            Traceback (most recent call last)",
      "Cell \u001b[1;32mIn[16], line 7\u001b[0m\n\u001b[0;32m      5\u001b[0m \u001b[39m# Menggunakan model untuk melakukan prediksi\u001b[39;00m\n\u001b[0;32m      6\u001b[0m X_new \u001b[39m=\u001b[39m [[\u001b[39m8\u001b[39m]] \u001b[39m# Data yang akan di-scaling\u001b[39;00m\n\u001b[1;32m----> 7\u001b[0m \u001b[39mif\u001b[39;00m X_new\u001b[39m.\u001b[39;49mshape[\u001b[39m1\u001b[39m] \u001b[39m==\u001b[39m \u001b[39m9\u001b[39m:\n\u001b[0;32m      8\u001b[0m     X_new_scaled \u001b[39m=\u001b[39m scaler\u001b[39m.\u001b[39mtransform(X_new)\n\u001b[0;32m      9\u001b[0m \u001b[39melse\u001b[39;00m:\n",
      "\u001b[1;31mAttributeError\u001b[0m: 'list' object has no attribute 'shape'"
     ]
    }
   ],
   "source": [
    "# Training model\n",
    "scaler = StandardScaler()\n",
    "X_train_scaled = scaler.fit_transform(x_train)\n",
    "\n",
    "# Menggunakan model untuk melakukan prediksi\n",
    "X_new = [[8]] # Data yang akan di-scaling\n",
    "if X_new.shape[1] == 9:\n",
    "    X_new_scaled = scaler.transform(X_new)\n",
    "else:\n",
    "    print(\"Jumlah fitur pada data tidak sesuai dengan jumlah fitur pada saat training model.\")"
   ]
  },
  {
   "cell_type": "code",
   "execution_count": null,
   "metadata": {},
   "outputs": [
    {
     "data": {
      "text/plain": [
       "['A:/projectwater/models/scaler.pkl']"
      ]
     },
     "execution_count": 12,
     "metadata": {},
     "output_type": "execute_result"
    }
   ],
   "source": [
    "jb.dump(scaler, 'A:/projectwater/models/scaler.pkl')"
   ]
  },
  {
   "cell_type": "code",
   "execution_count": null,
   "metadata": {},
   "outputs": [],
   "source": [
    "train = pd.concat([x_train, y_train],axis=1)\n",
    "test = pd.concat([x_test,y_test],axis=1)\n",
    "valid = pd.concat([x_valid,y_valid],axis=1)"
   ]
  },
  {
   "cell_type": "code",
   "execution_count": null,
   "metadata": {},
   "outputs": [
    {
     "name": "stdout",
     "output_type": "stream",
     "text": [
      "(2293, 10)\n",
      "(492, 10)\n",
      "(491, 10)\n"
     ]
    }
   ],
   "source": [
    "print(train.shape)\n",
    "print(test.shape)\n",
    "print(valid.shape)"
   ]
  },
  {
   "cell_type": "markdown",
   "metadata": {},
   "source": [
    "# REMOVE OUTLIERS"
   ]
  },
  {
   "cell_type": "code",
   "execution_count": null,
   "metadata": {},
   "outputs": [],
   "source": [
    "sm = SMOTE(random_state = 112)\n",
    "x_train_remoutl_sm, y_train_remoutl_sm = sm.fit_resample(train.drop(config[\"target\"], axis = 1), train[config[\"target\"]])\n",
    "train_remoutl_sm = pd.concat([x_train_remoutl_sm, y_train_remoutl_sm], axis = 1)"
   ]
  },
  {
   "cell_type": "code",
   "execution_count": null,
   "metadata": {},
   "outputs": [
    {
     "data": {
      "text/html": [
       "<div>\n",
       "<style scoped>\n",
       "    .dataframe tbody tr th:only-of-type {\n",
       "        vertical-align: middle;\n",
       "    }\n",
       "\n",
       "    .dataframe tbody tr th {\n",
       "        vertical-align: top;\n",
       "    }\n",
       "\n",
       "    .dataframe thead th {\n",
       "        text-align: right;\n",
       "    }\n",
       "</style>\n",
       "<table border=\"1\" class=\"dataframe\">\n",
       "  <thead>\n",
       "    <tr style=\"text-align: right;\">\n",
       "      <th></th>\n",
       "      <th>ph</th>\n",
       "      <th>hardness</th>\n",
       "      <th>solids</th>\n",
       "      <th>chloramines</th>\n",
       "      <th>sulfate</th>\n",
       "      <th>conductivity</th>\n",
       "      <th>organic_carbon</th>\n",
       "      <th>trihalomethes</th>\n",
       "      <th>turbidity</th>\n",
       "      <th>potability</th>\n",
       "    </tr>\n",
       "  </thead>\n",
       "  <tbody>\n",
       "    <tr>\n",
       "      <th>0</th>\n",
       "      <td>7.080795</td>\n",
       "      <td>237.083948</td>\n",
       "      <td>35434.280062</td>\n",
       "      <td>7.617649</td>\n",
       "      <td>381.337527</td>\n",
       "      <td>365.032503</td>\n",
       "      <td>13.453872</td>\n",
       "      <td>33.439868</td>\n",
       "      <td>3.825937</td>\n",
       "      <td>1</td>\n",
       "    </tr>\n",
       "    <tr>\n",
       "      <th>1</th>\n",
       "      <td>6.789821</td>\n",
       "      <td>197.300014</td>\n",
       "      <td>22527.681207</td>\n",
       "      <td>5.166942</td>\n",
       "      <td>399.981755</td>\n",
       "      <td>422.482029</td>\n",
       "      <td>15.916605</td>\n",
       "      <td>47.935105</td>\n",
       "      <td>4.512068</td>\n",
       "      <td>1</td>\n",
       "    </tr>\n",
       "    <tr>\n",
       "      <th>2</th>\n",
       "      <td>5.636924</td>\n",
       "      <td>159.139410</td>\n",
       "      <td>27283.780655</td>\n",
       "      <td>6.918727</td>\n",
       "      <td>328.907287</td>\n",
       "      <td>317.830981</td>\n",
       "      <td>13.611408</td>\n",
       "      <td>36.335199</td>\n",
       "      <td>3.007138</td>\n",
       "      <td>1</td>\n",
       "    </tr>\n",
       "    <tr>\n",
       "      <th>3</th>\n",
       "      <td>6.279842</td>\n",
       "      <td>175.890640</td>\n",
       "      <td>11582.505249</td>\n",
       "      <td>7.059985</td>\n",
       "      <td>333.775777</td>\n",
       "      <td>430.322092</td>\n",
       "      <td>15.674785</td>\n",
       "      <td>86.760257</td>\n",
       "      <td>3.278584</td>\n",
       "      <td>0</td>\n",
       "    </tr>\n",
       "    <tr>\n",
       "      <th>4</th>\n",
       "      <td>6.703487</td>\n",
       "      <td>182.129514</td>\n",
       "      <td>24316.875146</td>\n",
       "      <td>7.009806</td>\n",
       "      <td>341.333952</td>\n",
       "      <td>479.537497</td>\n",
       "      <td>20.088643</td>\n",
       "      <td>53.925045</td>\n",
       "      <td>4.223884</td>\n",
       "      <td>0</td>\n",
       "    </tr>\n",
       "    <tr>\n",
       "      <th>...</th>\n",
       "      <td>...</td>\n",
       "      <td>...</td>\n",
       "      <td>...</td>\n",
       "      <td>...</td>\n",
       "      <td>...</td>\n",
       "      <td>...</td>\n",
       "      <td>...</td>\n",
       "      <td>...</td>\n",
       "      <td>...</td>\n",
       "      <td>...</td>\n",
       "    </tr>\n",
       "    <tr>\n",
       "      <th>2791</th>\n",
       "      <td>5.150725</td>\n",
       "      <td>235.750938</td>\n",
       "      <td>23732.574898</td>\n",
       "      <td>7.296271</td>\n",
       "      <td>309.303950</td>\n",
       "      <td>407.304810</td>\n",
       "      <td>14.595219</td>\n",
       "      <td>64.361649</td>\n",
       "      <td>3.489063</td>\n",
       "      <td>1</td>\n",
       "    </tr>\n",
       "    <tr>\n",
       "      <th>2792</th>\n",
       "      <td>8.170774</td>\n",
       "      <td>165.869275</td>\n",
       "      <td>26653.896551</td>\n",
       "      <td>6.754714</td>\n",
       "      <td>299.692738</td>\n",
       "      <td>377.217315</td>\n",
       "      <td>12.227472</td>\n",
       "      <td>63.496461</td>\n",
       "      <td>4.253619</td>\n",
       "      <td>1</td>\n",
       "    </tr>\n",
       "    <tr>\n",
       "      <th>2793</th>\n",
       "      <td>7.213820</td>\n",
       "      <td>239.957190</td>\n",
       "      <td>14768.408635</td>\n",
       "      <td>7.290521</td>\n",
       "      <td>337.665452</td>\n",
       "      <td>509.635021</td>\n",
       "      <td>13.222618</td>\n",
       "      <td>55.262220</td>\n",
       "      <td>4.902740</td>\n",
       "      <td>1</td>\n",
       "    </tr>\n",
       "    <tr>\n",
       "      <th>2794</th>\n",
       "      <td>6.560599</td>\n",
       "      <td>187.858004</td>\n",
       "      <td>23237.848733</td>\n",
       "      <td>6.304301</td>\n",
       "      <td>345.573027</td>\n",
       "      <td>388.320289</td>\n",
       "      <td>13.115741</td>\n",
       "      <td>60.851527</td>\n",
       "      <td>3.565247</td>\n",
       "      <td>1</td>\n",
       "    </tr>\n",
       "    <tr>\n",
       "      <th>2795</th>\n",
       "      <td>6.104025</td>\n",
       "      <td>205.979243</td>\n",
       "      <td>23406.818819</td>\n",
       "      <td>8.061575</td>\n",
       "      <td>333.789165</td>\n",
       "      <td>380.328220</td>\n",
       "      <td>15.490193</td>\n",
       "      <td>69.138757</td>\n",
       "      <td>4.280221</td>\n",
       "      <td>1</td>\n",
       "    </tr>\n",
       "  </tbody>\n",
       "</table>\n",
       "<p>2796 rows × 10 columns</p>\n",
       "</div>"
      ],
      "text/plain": [
       "            ph    hardness        solids  chloramines     sulfate   \n",
       "0     7.080795  237.083948  35434.280062     7.617649  381.337527  \\\n",
       "1     6.789821  197.300014  22527.681207     5.166942  399.981755   \n",
       "2     5.636924  159.139410  27283.780655     6.918727  328.907287   \n",
       "3     6.279842  175.890640  11582.505249     7.059985  333.775777   \n",
       "4     6.703487  182.129514  24316.875146     7.009806  341.333952   \n",
       "...        ...         ...           ...          ...         ...   \n",
       "2791  5.150725  235.750938  23732.574898     7.296271  309.303950   \n",
       "2792  8.170774  165.869275  26653.896551     6.754714  299.692738   \n",
       "2793  7.213820  239.957190  14768.408635     7.290521  337.665452   \n",
       "2794  6.560599  187.858004  23237.848733     6.304301  345.573027   \n",
       "2795  6.104025  205.979243  23406.818819     8.061575  333.789165   \n",
       "\n",
       "      conductivity  organic_carbon  trihalomethes  turbidity  potability  \n",
       "0       365.032503       13.453872      33.439868   3.825937           1  \n",
       "1       422.482029       15.916605      47.935105   4.512068           1  \n",
       "2       317.830981       13.611408      36.335199   3.007138           1  \n",
       "3       430.322092       15.674785      86.760257   3.278584           0  \n",
       "4       479.537497       20.088643      53.925045   4.223884           0  \n",
       "...            ...             ...            ...        ...         ...  \n",
       "2791    407.304810       14.595219      64.361649   3.489063           1  \n",
       "2792    377.217315       12.227472      63.496461   4.253619           1  \n",
       "2793    509.635021       13.222618      55.262220   4.902740           1  \n",
       "2794    388.320289       13.115741      60.851527   3.565247           1  \n",
       "2795    380.328220       15.490193      69.138757   4.280221           1  \n",
       "\n",
       "[2796 rows x 10 columns]"
      ]
     },
     "execution_count": 9,
     "metadata": {},
     "output_type": "execute_result"
    }
   ],
   "source": [
    "train_remoutl_sm"
   ]
  },
  {
   "cell_type": "code",
   "execution_count": null,
   "metadata": {},
   "outputs": [],
   "source": [
    "x_train_remoutl_sm = train_remoutl_sm[config[\"predictors\"]].copy()\n",
    "y_train_remoutl_sm = train_remoutl_sm[config[\"target\"]].copy()"
   ]
  },
  {
   "cell_type": "code",
   "execution_count": null,
   "metadata": {},
   "outputs": [
    {
     "data": {
      "text/plain": [
       "['A:/projectwater/data/process/y_valid_feat.pkl']"
      ]
     },
     "execution_count": 11,
     "metadata": {},
     "output_type": "execute_result"
    }
   ],
   "source": [
    "jb.dump(x_train_remoutl_sm, \"A:/projectwater/data/process/x_train_feat.pkl\")\n",
    "jb.dump(y_train_remoutl_sm, \"A:/projectwater/data/process/y_train_feat.pkl\")\n",
    "jb.dump(x_test, \"A:/projectwater/data/process/x_test_feat.pkl\")\n",
    "jb.dump(y_test, \"A:/projectwater/data/process/y_test_feat.pkl\")\n",
    "jb.dump(x_valid, \"A:/projectwater/data/process/x_valid_feat.pkl\")\n",
    "jb.dump(y_valid, \"A:/projectwater/data/process/y_valid_feat.pkl\")"
   ]
  }
 ],
 "metadata": {
  "kernelspec": {
   "display_name": "Python 3.10.8 ('portofolio')",
   "language": "python",
   "name": "python3"
  },
  "language_info": {
   "codemirror_mode": {
    "name": "ipython",
    "version": 3
   },
   "file_extension": ".py",
   "mimetype": "text/x-python",
   "name": "python",
   "nbconvert_exporter": "python",
   "pygments_lexer": "ipython3",
   "version": "3.10.8"
  },
  "orig_nbformat": 4,
  "vscode": {
   "interpreter": {
    "hash": "6cd182019d280e9c2624f02d0f435994d3a12fd3110b026b324927bf80cb863f"
   }
  }
 },
 "nbformat": 4,
 "nbformat_minor": 2
}
