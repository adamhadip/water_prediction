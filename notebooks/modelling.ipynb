{
 "cells": [
  {
   "cell_type": "code",
   "execution_count": 2,
   "metadata": {},
   "outputs": [],
   "source": [
    "import pandas as pd\n",
    "import joblib\n",
    "import copy\n",
    "import hashlib\n",
    "import json\n",
    "from datetime import datetime\n",
    "from tqdm import tqdm\n",
    "\n",
    "from sklearn.linear_model import LogisticRegression\n",
    "from sklearn.tree import DecisionTreeClassifier\n",
    "from sklearn.ensemble import RandomForestClassifier\n",
    "from sklearn.neighbors import KNeighborsClassifier\n",
    "from xgboost import XGBClassifier\n",
    "\n",
    "from sklearn.metrics import classification_report, ConfusionMatrixDisplay, roc_curve, roc_auc_score\n",
    "from sklearn.model_selection import RandomizedSearchCV, GridSearchCV\n",
    "from sklearn import tree"
   ]
  },
  {
   "cell_type": "markdown",
   "metadata": {},
   "source": [
    "LOG"
   ]
  },
  {
   "cell_type": "code",
   "execution_count": 3,
   "metadata": {},
   "outputs": [],
   "source": [
    "def create_log_template():\n",
    "    logger = {\n",
    "        'model_name' : [],\n",
    "        'model_uid' : [],\n",
    "        'training_time' : [],\n",
    "        'performance' : [],\n",
    "        'f1_score_avg' : [],\n",
    "        'data_configurations' : [],\n",
    "    }\n",
    "\n",
    "    return logger\n"
   ]
  },
  {
   "cell_type": "code",
   "execution_count": 4,
   "metadata": {},
   "outputs": [],
   "source": [
    "def training_log_updater(current_log, log_path):\n",
    "    current_log = current_log.copy()\n",
    "\n",
    "    try:\n",
    "        with open(log_path, 'r') as file:\n",
    "            last_log = json.load(file)\n",
    "        file.close()\n",
    "    except FileNotFoundError as ffe:\n",
    "        with open(log_path, 'w') as file:\n",
    "            file.write('[]')\n",
    "        file.close()\n",
    "        with open(log_path, 'r') as file:\n",
    "            last_log = json.load(file)\n",
    "        file.close()\n",
    "    \n",
    "    last_log.append(current_log)\n",
    "\n",
    "    with open(log_path, 'w') as file:\n",
    "        json.dump(last_log, file)\n",
    "        file.close()\n",
    "\n",
    "    return last_log"
   ]
  },
  {
   "cell_type": "code",
   "execution_count": 5,
   "metadata": {},
   "outputs": [],
   "source": [
    "lgr_baseline = LogisticRegression()\n",
    "dct_baseline = DecisionTreeClassifier()\n",
    "rfc_baseline = RandomForestClassifier()\n",
    "knn_baseline = KNeighborsClassifier()\n",
    "xgb_baseline = XGBClassifier()"
   ]
  },
  {
   "cell_type": "code",
   "execution_count": 6,
   "metadata": {},
   "outputs": [],
   "source": [
    "list_of_model = {\n",
    "        'smote' : [\n",
    "        { 'model_name': lgr_baseline.__class__.__name__, 'model_object': lgr_baseline, 'model_uid': ''},\n",
    "        { 'model_name': dct_baseline.__class__.__name__, 'model_object': dct_baseline, 'model_uid': ''},\n",
    "        { 'model_name': rfc_baseline.__class__.__name__, 'model_object': rfc_baseline, 'model_uid': ''},\n",
    "        { 'model_name': knn_baseline.__class__.__name__, 'model_object': knn_baseline, 'model_uid': ''},\n",
    "        { 'model_name': xgb_baseline.__class__.__name__, 'model_object': xgb_baseline, 'model_uid': ''}\n",
    "        ],\n",
    "    }"
   ]
  },
  {
   "cell_type": "code",
   "execution_count": 16,
   "metadata": {},
   "outputs": [],
   "source": [
    "x_train = joblib.load('A:/projectwater/data/process/x_train.pkl')\n",
    "y_train = joblib.load('A:/projectwater/data/process/y_train.pkl')\n",
    "x_test = joblib.load('A:/projectwater/data/process/x_test.pkl')\n",
    "y_test = joblib.load('A:/projectwater/data/process/y_test.pkl')\n",
    "x_valid = joblib.load('A:/projectwater/data/process/x_valid.pkl')\n",
    "y_valid = joblib.load('A:/projectwater/data/process/y_valid.pkl')"
   ]
  },
  {
   "cell_type": "code",
   "execution_count": 18,
   "metadata": {},
   "outputs": [
    {
     "data": {
      "text/html": [
       "<style>#sk-container-id-1 {color: black;background-color: white;}#sk-container-id-1 pre{padding: 0;}#sk-container-id-1 div.sk-toggleable {background-color: white;}#sk-container-id-1 label.sk-toggleable__label {cursor: pointer;display: block;width: 100%;margin-bottom: 0;padding: 0.3em;box-sizing: border-box;text-align: center;}#sk-container-id-1 label.sk-toggleable__label-arrow:before {content: \"▸\";float: left;margin-right: 0.25em;color: #696969;}#sk-container-id-1 label.sk-toggleable__label-arrow:hover:before {color: black;}#sk-container-id-1 div.sk-estimator:hover label.sk-toggleable__label-arrow:before {color: black;}#sk-container-id-1 div.sk-toggleable__content {max-height: 0;max-width: 0;overflow: hidden;text-align: left;background-color: #f0f8ff;}#sk-container-id-1 div.sk-toggleable__content pre {margin: 0.2em;color: black;border-radius: 0.25em;background-color: #f0f8ff;}#sk-container-id-1 input.sk-toggleable__control:checked~div.sk-toggleable__content {max-height: 200px;max-width: 100%;overflow: auto;}#sk-container-id-1 input.sk-toggleable__control:checked~label.sk-toggleable__label-arrow:before {content: \"▾\";}#sk-container-id-1 div.sk-estimator input.sk-toggleable__control:checked~label.sk-toggleable__label {background-color: #d4ebff;}#sk-container-id-1 div.sk-label input.sk-toggleable__control:checked~label.sk-toggleable__label {background-color: #d4ebff;}#sk-container-id-1 input.sk-hidden--visually {border: 0;clip: rect(1px 1px 1px 1px);clip: rect(1px, 1px, 1px, 1px);height: 1px;margin: -1px;overflow: hidden;padding: 0;position: absolute;width: 1px;}#sk-container-id-1 div.sk-estimator {font-family: monospace;background-color: #f0f8ff;border: 1px dotted black;border-radius: 0.25em;box-sizing: border-box;margin-bottom: 0.5em;}#sk-container-id-1 div.sk-estimator:hover {background-color: #d4ebff;}#sk-container-id-1 div.sk-parallel-item::after {content: \"\";width: 100%;border-bottom: 1px solid gray;flex-grow: 1;}#sk-container-id-1 div.sk-label:hover label.sk-toggleable__label {background-color: #d4ebff;}#sk-container-id-1 div.sk-serial::before {content: \"\";position: absolute;border-left: 1px solid gray;box-sizing: border-box;top: 0;bottom: 0;left: 50%;z-index: 0;}#sk-container-id-1 div.sk-serial {display: flex;flex-direction: column;align-items: center;background-color: white;padding-right: 0.2em;padding-left: 0.2em;position: relative;}#sk-container-id-1 div.sk-item {position: relative;z-index: 1;}#sk-container-id-1 div.sk-parallel {display: flex;align-items: stretch;justify-content: center;background-color: white;position: relative;}#sk-container-id-1 div.sk-item::before, #sk-container-id-1 div.sk-parallel-item::before {content: \"\";position: absolute;border-left: 1px solid gray;box-sizing: border-box;top: 0;bottom: 0;left: 50%;z-index: -1;}#sk-container-id-1 div.sk-parallel-item {display: flex;flex-direction: column;z-index: 1;position: relative;background-color: white;}#sk-container-id-1 div.sk-parallel-item:first-child::after {align-self: flex-end;width: 50%;}#sk-container-id-1 div.sk-parallel-item:last-child::after {align-self: flex-start;width: 50%;}#sk-container-id-1 div.sk-parallel-item:only-child::after {width: 0;}#sk-container-id-1 div.sk-dashed-wrapped {border: 1px dashed gray;margin: 0 0.4em 0.5em 0.4em;box-sizing: border-box;padding-bottom: 0.4em;background-color: white;}#sk-container-id-1 div.sk-label label {font-family: monospace;font-weight: bold;display: inline-block;line-height: 1.2em;}#sk-container-id-1 div.sk-label-container {text-align: center;}#sk-container-id-1 div.sk-container {/* jupyter's `normalize.less` sets `[hidden] { display: none; }` but bootstrap.min.css set `[hidden] { display: none !important; }` so we also need the `!important` here to be able to override the default hidden behavior on the sphinx rendered scikit-learn.org. See: https://github.com/scikit-learn/scikit-learn/issues/21755 */display: inline-block !important;position: relative;}#sk-container-id-1 div.sk-text-repr-fallback {display: none;}</style><div id=\"sk-container-id-1\" class=\"sk-top-container\"><div class=\"sk-text-repr-fallback\"><pre>RandomForestClassifier()</pre><b>In a Jupyter environment, please rerun this cell to show the HTML representation or trust the notebook. <br />On GitHub, the HTML representation is unable to render, please try loading this page with nbviewer.org.</b></div><div class=\"sk-container\" hidden><div class=\"sk-item\"><div class=\"sk-estimator sk-toggleable\"><input class=\"sk-toggleable__control sk-hidden--visually\" id=\"sk-estimator-id-1\" type=\"checkbox\" checked><label for=\"sk-estimator-id-1\" class=\"sk-toggleable__label sk-toggleable__label-arrow\">RandomForestClassifier</label><div class=\"sk-toggleable__content\"><pre>RandomForestClassifier()</pre></div></div></div></div></div>"
      ],
      "text/plain": [
       "RandomForestClassifier()"
      ]
     },
     "execution_count": 18,
     "metadata": {},
     "output_type": "execute_result"
    }
   ],
   "source": [
    "rfc = RandomForestClassifier()\n",
    "rfc.fit(x_train,y_train)"
   ]
  },
  {
   "cell_type": "code",
   "execution_count": 19,
   "metadata": {},
   "outputs": [
    {
     "data": {
      "text/html": [
       "<div>\n",
       "<style scoped>\n",
       "    .dataframe tbody tr th:only-of-type {\n",
       "        vertical-align: middle;\n",
       "    }\n",
       "\n",
       "    .dataframe tbody tr th {\n",
       "        vertical-align: top;\n",
       "    }\n",
       "\n",
       "    .dataframe thead th {\n",
       "        text-align: right;\n",
       "    }\n",
       "</style>\n",
       "<table border=\"1\" class=\"dataframe\">\n",
       "  <thead>\n",
       "    <tr style=\"text-align: right;\">\n",
       "      <th></th>\n",
       "      <th>ph</th>\n",
       "      <th>hardness</th>\n",
       "      <th>solids</th>\n",
       "      <th>chloramines</th>\n",
       "      <th>sulfate</th>\n",
       "      <th>conductivity</th>\n",
       "      <th>organic_carbon</th>\n",
       "      <th>trihalomethes</th>\n",
       "      <th>turbidity</th>\n",
       "    </tr>\n",
       "  </thead>\n",
       "  <tbody>\n",
       "    <tr>\n",
       "      <th>2018</th>\n",
       "      <td>7.080795</td>\n",
       "      <td>237.083948</td>\n",
       "      <td>35434.280062</td>\n",
       "      <td>7.617649</td>\n",
       "      <td>381.337527</td>\n",
       "      <td>365.032503</td>\n",
       "      <td>13.453872</td>\n",
       "      <td>33.439868</td>\n",
       "      <td>3.825937</td>\n",
       "    </tr>\n",
       "    <tr>\n",
       "      <th>2740</th>\n",
       "      <td>6.789821</td>\n",
       "      <td>197.300014</td>\n",
       "      <td>22527.681207</td>\n",
       "      <td>5.166942</td>\n",
       "      <td>399.981755</td>\n",
       "      <td>422.482029</td>\n",
       "      <td>15.916605</td>\n",
       "      <td>47.935105</td>\n",
       "      <td>4.512068</td>\n",
       "    </tr>\n",
       "    <tr>\n",
       "      <th>2746</th>\n",
       "      <td>5.636924</td>\n",
       "      <td>159.139410</td>\n",
       "      <td>27283.780655</td>\n",
       "      <td>6.918727</td>\n",
       "      <td>328.907287</td>\n",
       "      <td>317.830981</td>\n",
       "      <td>13.611408</td>\n",
       "      <td>36.335199</td>\n",
       "      <td>3.007138</td>\n",
       "    </tr>\n",
       "    <tr>\n",
       "      <th>1468</th>\n",
       "      <td>6.279842</td>\n",
       "      <td>175.890640</td>\n",
       "      <td>11582.505249</td>\n",
       "      <td>7.059985</td>\n",
       "      <td>333.775777</td>\n",
       "      <td>430.322092</td>\n",
       "      <td>15.674785</td>\n",
       "      <td>86.760257</td>\n",
       "      <td>3.278584</td>\n",
       "    </tr>\n",
       "    <tr>\n",
       "      <th>1417</th>\n",
       "      <td>6.703487</td>\n",
       "      <td>182.129514</td>\n",
       "      <td>24316.875146</td>\n",
       "      <td>7.009806</td>\n",
       "      <td>341.333952</td>\n",
       "      <td>479.537497</td>\n",
       "      <td>20.088643</td>\n",
       "      <td>53.925045</td>\n",
       "      <td>4.223884</td>\n",
       "    </tr>\n",
       "    <tr>\n",
       "      <th>...</th>\n",
       "      <td>...</td>\n",
       "      <td>...</td>\n",
       "      <td>...</td>\n",
       "      <td>...</td>\n",
       "      <td>...</td>\n",
       "      <td>...</td>\n",
       "      <td>...</td>\n",
       "      <td>...</td>\n",
       "      <td>...</td>\n",
       "    </tr>\n",
       "    <tr>\n",
       "      <th>101</th>\n",
       "      <td>7.348845</td>\n",
       "      <td>223.264940</td>\n",
       "      <td>11519.046527</td>\n",
       "      <td>8.889559</td>\n",
       "      <td>333.775777</td>\n",
       "      <td>494.158434</td>\n",
       "      <td>18.145374</td>\n",
       "      <td>73.715522</td>\n",
       "      <td>4.880875</td>\n",
       "    </tr>\n",
       "    <tr>\n",
       "      <th>1734</th>\n",
       "      <td>3.928556</td>\n",
       "      <td>191.665998</td>\n",
       "      <td>17328.161457</td>\n",
       "      <td>7.692417</td>\n",
       "      <td>306.479558</td>\n",
       "      <td>406.085614</td>\n",
       "      <td>9.578602</td>\n",
       "      <td>45.480738</td>\n",
       "      <td>5.060836</td>\n",
       "    </tr>\n",
       "    <tr>\n",
       "      <th>394</th>\n",
       "      <td>8.736371</td>\n",
       "      <td>194.677687</td>\n",
       "      <td>24283.658791</td>\n",
       "      <td>8.855544</td>\n",
       "      <td>329.004205</td>\n",
       "      <td>333.623794</td>\n",
       "      <td>16.516232</td>\n",
       "      <td>67.250473</td>\n",
       "      <td>3.802116</td>\n",
       "    </tr>\n",
       "    <tr>\n",
       "      <th>2242</th>\n",
       "      <td>6.645657</td>\n",
       "      <td>170.269715</td>\n",
       "      <td>23432.109730</td>\n",
       "      <td>7.066565</td>\n",
       "      <td>333.775777</td>\n",
       "      <td>513.364946</td>\n",
       "      <td>20.264678</td>\n",
       "      <td>78.900888</td>\n",
       "      <td>4.170658</td>\n",
       "    </tr>\n",
       "    <tr>\n",
       "      <th>2846</th>\n",
       "      <td>7.222998</td>\n",
       "      <td>179.560290</td>\n",
       "      <td>21314.869789</td>\n",
       "      <td>5.864717</td>\n",
       "      <td>333.775777</td>\n",
       "      <td>435.573888</td>\n",
       "      <td>11.878370</td>\n",
       "      <td>79.394008</td>\n",
       "      <td>3.966259</td>\n",
       "    </tr>\n",
       "  </tbody>\n",
       "</table>\n",
       "<p>2293 rows × 9 columns</p>\n",
       "</div>"
      ],
      "text/plain": [
       "            ph    hardness        solids  chloramines     sulfate   \n",
       "2018  7.080795  237.083948  35434.280062     7.617649  381.337527  \\\n",
       "2740  6.789821  197.300014  22527.681207     5.166942  399.981755   \n",
       "2746  5.636924  159.139410  27283.780655     6.918727  328.907287   \n",
       "1468  6.279842  175.890640  11582.505249     7.059985  333.775777   \n",
       "1417  6.703487  182.129514  24316.875146     7.009806  341.333952   \n",
       "...        ...         ...           ...          ...         ...   \n",
       "101   7.348845  223.264940  11519.046527     8.889559  333.775777   \n",
       "1734  3.928556  191.665998  17328.161457     7.692417  306.479558   \n",
       "394   8.736371  194.677687  24283.658791     8.855544  329.004205   \n",
       "2242  6.645657  170.269715  23432.109730     7.066565  333.775777   \n",
       "2846  7.222998  179.560290  21314.869789     5.864717  333.775777   \n",
       "\n",
       "      conductivity  organic_carbon  trihalomethes  turbidity  \n",
       "2018    365.032503       13.453872      33.439868   3.825937  \n",
       "2740    422.482029       15.916605      47.935105   4.512068  \n",
       "2746    317.830981       13.611408      36.335199   3.007138  \n",
       "1468    430.322092       15.674785      86.760257   3.278584  \n",
       "1417    479.537497       20.088643      53.925045   4.223884  \n",
       "...            ...             ...            ...        ...  \n",
       "101     494.158434       18.145374      73.715522   4.880875  \n",
       "1734    406.085614        9.578602      45.480738   5.060836  \n",
       "394     333.623794       16.516232      67.250473   3.802116  \n",
       "2242    513.364946       20.264678      78.900888   4.170658  \n",
       "2846    435.573888       11.878370      79.394008   3.966259  \n",
       "\n",
       "[2293 rows x 9 columns]"
      ]
     },
     "execution_count": 19,
     "metadata": {},
     "output_type": "execute_result"
    }
   ],
   "source": [
    "x_train"
   ]
  },
  {
   "cell_type": "code",
   "execution_count": 20,
   "metadata": {},
   "outputs": [
    {
     "name": "stdout",
     "output_type": "stream",
     "text": [
      "              precision    recall  f1-score   support\n",
      "\n",
      "           0       0.66      0.91      0.76       300\n",
      "           1       0.65      0.27      0.38       191\n",
      "\n",
      "    accuracy                           0.66       491\n",
      "   macro avg       0.65      0.59      0.57       491\n",
      "weighted avg       0.65      0.66      0.61       491\n",
      "\n"
     ]
    }
   ],
   "source": [
    "y_pred = rfc.predict(x_valid)\n",
    "print(classification_report(y_valid, y_pred))"
   ]
  },
  {
   "cell_type": "code",
   "execution_count": 21,
   "metadata": {},
   "outputs": [
    {
     "name": "stdout",
     "output_type": "stream",
     "text": [
      "              precision    recall  f1-score   support\n",
      "\n",
      "           0       0.67      0.87      0.76       300\n",
      "           1       0.62      0.32      0.42       192\n",
      "\n",
      "    accuracy                           0.66       492\n",
      "   macro avg       0.64      0.60      0.59       492\n",
      "weighted avg       0.65      0.66      0.63       492\n",
      "\n"
     ]
    }
   ],
   "source": [
    "y_pred = rfc.predict(x_test)\n",
    "print(classification_report(y_test, y_pred))"
   ]
  },
  {
   "cell_type": "code",
   "execution_count": 22,
   "metadata": {},
   "outputs": [
    {
     "data": {
      "text/plain": [
       "<sklearn.metrics._plot.confusion_matrix.ConfusionMatrixDisplay at 0x2f8f71c6c80>"
      ]
     },
     "execution_count": 22,
     "metadata": {},
     "output_type": "execute_result"
    },
    {
     "data": {
      "image/png": "[encoded data removed]",
      "text/plain": [
       "<Figure size 640x480 with 2 Axes>"
      ]
     },
     "metadata": {},
     "output_type": "display_data"
    }
   ],
   "source": [
    "ConfusionMatrixDisplay.from_predictions(y_test, y_pred)"
   ]
  },
  {
   "cell_type": "code",
   "execution_count": 23,
   "metadata": {},
   "outputs": [
    {
     "data": {
      "text/plain": [
       "['A:/projectwater/models/models.pkl']"
      ]
     },
     "execution_count": 23,
     "metadata": {},
     "output_type": "execute_result"
    }
   ],
   "source": [
    "joblib.dump(rfc, 'A:/projectwater/models/models.pkl')"
   ]
  },
  {
   "cell_type": "code",
   "execution_count": null,
   "metadata": {},
   "outputs": [],
   "source": []
  }
 ],
 "metadata": {
  "kernelspec": {
   "display_name": "Python 3.10.8 ('portofolio')",
   "language": "python",
   "name": "python3"
  },
  "language_info": {
   "codemirror_mode": {
    "name": "ipython",
    "version": 3
   },
   "file_extension": ".py",
   "mimetype": "text/x-python",
   "name": "python",
   "nbconvert_exporter": "python",
   "pygments_lexer": "ipython3",
   "version": "3.10.8"
  },
  "orig_nbformat": 4,
  "vscode": {
   "interpreter": {
    "hash": "6cd182019d280e9c2624f02d0f435994d3a12fd3110b026b324927bf80cb863f"
   }
  }
 },
 "nbformat": 4,
 "nbformat_minor": 2
}
