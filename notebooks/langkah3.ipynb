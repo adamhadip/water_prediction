{
 "cells": [
  {
   "cell_type": "code",
   "execution_count": 1,
   "metadata": {},
   "outputs": [],
   "source": [
    "import yaml\n",
    "import joblib as jb\n",
    "\n",
    "from sklearn.ensemble import RandomForestClassifier\n",
    "from sklearn.metrics import classification_report\n",
    "from sklearn.tree import DecisionTreeClassifier"
   ]
  },
  {
   "cell_type": "code",
   "execution_count": 2,
   "metadata": {},
   "outputs": [
    {
     "data": {
      "text/plain": [
       "{'data_raw': 'A:/projectwater/data/raw/water_potability.csv',\n",
       " 'data_final': 'A:/projectwater/data/process/ori_new.pkl',\n",
       " 'path_train': ['A:/projectwater/data/process/x_train.pkl',\n",
       "  'A:/projectwater/data/process/y_train.pkl'],\n",
       " 'path_valid': ['A:/projectwater/data/process/x_valid.pkl',\n",
       "  'A:/projectwater/data/process/y_valid.pkl'],\n",
       " 'path_test': ['A:/projectwater/data/process/x_test.pkl',\n",
       "  'A:/projectwater/data/process/y_test.pkl'],\n",
       " 'path_train_feat': ['A:/projectwater/data/process/x_train_feat.pkl',\n",
       "  'A:/projectwater/data/process/y_train_feat.pkl'],\n",
       " 'path_valid_feat': ['A:/projectwater/data/process/x_valid_feat.pkl',\n",
       "  'A:/projectwater/data/process/y_valid_feat.pkl'],\n",
       " 'path_test_feat': ['A:/projectwater/data/process/x_test_feat.pkl',\n",
       "  'A:/projectwater/data/process/y_test_feat.pkl'],\n",
       " 'final_model_path': 'A:/projectwater/models/production_model.pkl',\n",
       " 'training_log_path': 'A:/projectwater/log/training_log.json',\n",
       " 'new_cols': ['ph',\n",
       "  'hardness',\n",
       "  'solids',\n",
       "  'chloramines',\n",
       "  'sulfate',\n",
       "  'conductivity',\n",
       "  'organic_carbon',\n",
       "  'trihalomethes',\n",
       "  'turbidity',\n",
       "  'potability'],\n",
       " 'int_columns': ['potability'],\n",
       " 'float_columns': ['ph',\n",
       "  'hardness',\n",
       "  'solids',\n",
       "  'chloramines',\n",
       "  'sulfate',\n",
       "  'conductivity',\n",
       "  'organic_carbon',\n",
       "  'trihalomethes',\n",
       "  'turbidity'],\n",
       " 'target': 'potability',\n",
       " 'predictors': ['ph',\n",
       "  'hardness',\n",
       "  'solids',\n",
       "  'chloramines',\n",
       "  'sulfate',\n",
       "  'conductivity',\n",
       "  'organic_carbon',\n",
       "  'trihalomethes',\n",
       "  'turbidity'],\n",
       " 'test_size': 0.2,\n",
       " 'valid_size': 0.5}"
      ]
     },
     "execution_count": 2,
     "metadata": {},
     "output_type": "execute_result"
    }
   ],
   "source": [
    "with open('A:/projectwater/config/config.yaml') as file:\n",
    "    config = yaml.safe_load(file)\n",
    "config"
   ]
  },
  {
   "cell_type": "code",
   "execution_count": 3,
   "metadata": {},
   "outputs": [],
   "source": [
    "x_train = jb.load('A:/projectwater/data/process/x_train.pkl')\n",
    "y_train = jb.load('A:/projectwater/data/process/y_train.pkl')\n",
    "x_test = jb.load('A:/projectwater/data/process/x_test.pkl')\n",
    "y_test = jb.load('A:/projectwater/data/process/y_test.pkl')\n",
    "x_valid = jb.load('A:/projectwater/data/process/x_valid.pkl')\n",
    "y_valid = jb.load('A:/projectwater/data/process/y_valid.pkl')"
   ]
  },
  {
   "cell_type": "code",
   "execution_count": 4,
   "metadata": {},
   "outputs": [
    {
     "name": "stdout",
     "output_type": "stream",
     "text": [
      "              precision    recall  f1-score   support\n",
      "\n",
      "           0       0.68      0.91      0.78       300\n",
      "           1       0.70      0.33      0.45       191\n",
      "\n",
      "    accuracy                           0.68       491\n",
      "   macro avg       0.69      0.62      0.61       491\n",
      "weighted avg       0.69      0.68      0.65       491\n",
      "\n"
     ]
    }
   ],
   "source": [
    "rfc = RandomForestClassifier()\n",
    "rfc.fit(x_train, y_train)\n",
    "\n",
    "y_pred = rfc.predict(x_valid)\n",
    "print(classification_report(y_valid, y_pred))"
   ]
  },
  {
   "cell_type": "code",
   "execution_count": 5,
   "metadata": {},
   "outputs": [
    {
     "name": "stdout",
     "output_type": "stream",
     "text": [
      "              precision    recall  f1-score   support\n",
      "\n",
      "           0       0.66      0.71      0.68       300\n",
      "           1       0.48      0.42      0.45       191\n",
      "\n",
      "    accuracy                           0.60       491\n",
      "   macro avg       0.57      0.57      0.57       491\n",
      "weighted avg       0.59      0.60      0.59       491\n",
      "\n"
     ]
    }
   ],
   "source": [
    "dtc = DecisionTreeClassifier()\n",
    "dtc.fit(x_train, y_train)\n",
    "\n",
    "y_pred = dtc.predict(x_valid)\n",
    "print(classification_report(y_valid, y_pred))"
   ]
  },
  {
   "cell_type": "markdown",
   "metadata": {},
   "source": [
    "TRAIN MODEL"
   ]
  },
  {
   "cell_type": "code",
   "execution_count": 7,
   "metadata": {},
   "outputs": [
    {
     "data": {
      "text/plain": [
       "['A:/projectwater/models/models.pkl']"
      ]
     },
     "execution_count": 7,
     "metadata": {},
     "output_type": "execute_result"
    }
   ],
   "source": [
    "jb.dump(rfc,'A:/projectwater/models/models.pkl')"
   ]
  },
  {
   "cell_type": "code",
   "execution_count": 9,
   "metadata": {},
   "outputs": [
    {
     "data": {
      "text/html": [
       "<div>\n",
       "<style scoped>\n",
       "    .dataframe tbody tr th:only-of-type {\n",
       "        vertical-align: middle;\n",
       "    }\n",
       "\n",
       "    .dataframe tbody tr th {\n",
       "        vertical-align: top;\n",
       "    }\n",
       "\n",
       "    .dataframe thead th {\n",
       "        text-align: right;\n",
       "    }\n",
       "</style>\n",
       "<table border=\"1\" class=\"dataframe\">\n",
       "  <thead>\n",
       "    <tr style=\"text-align: right;\">\n",
       "      <th></th>\n",
       "      <th>ph</th>\n",
       "      <th>hardness</th>\n",
       "      <th>solids</th>\n",
       "      <th>chloramines</th>\n",
       "      <th>sulfate</th>\n",
       "      <th>conductivity</th>\n",
       "      <th>organic_carbon</th>\n",
       "      <th>trihalomethes</th>\n",
       "      <th>turbidity</th>\n",
       "    </tr>\n",
       "  </thead>\n",
       "  <tbody>\n",
       "    <tr>\n",
       "      <th>0</th>\n",
       "      <td>4.2</td>\n",
       "      <td>129.4229</td>\n",
       "      <td>18630.056</td>\n",
       "      <td>6.63</td>\n",
       "      <td>368.89</td>\n",
       "      <td>564.3</td>\n",
       "      <td>10.379</td>\n",
       "      <td>56.32</td>\n",
       "      <td>2.93</td>\n",
       "    </tr>\n",
       "  </tbody>\n",
       "</table>\n",
       "</div>"
      ],
      "text/plain": [
       "    ph  hardness     solids  chloramines  sulfate  conductivity   \n",
       "0  4.2  129.4229  18630.056         6.63   368.89         564.3  \\\n",
       "\n",
       "   organic_carbon  trihalomethes  turbidity  \n",
       "0          10.379          56.32       2.93  "
      ]
     },
     "execution_count": 9,
     "metadata": {},
     "output_type": "execute_result"
    }
   ],
   "source": [
    "import pandas as pd\n",
    "import numpy\n",
    "\n",
    "cols = [{'ph': 4.2, 'hardness': 129.4229, 'solids': 18630.056, 'chloramines' :6.63 ,'sulfate' : 368.89 , 'conductivity' :564.3 ,'organic_carbon' : 10.379 ,'trihalomethes' : 56.32, 'turbidity' :2.93 }]\n",
    "z = pd.DataFrame(cols)\n",
    "z"
   ]
  },
  {
   "cell_type": "code",
   "execution_count": 10,
   "metadata": {},
   "outputs": [],
   "source": [
    "model_data = jb.load('A:/projectwater/models/models.pkl')"
   ]
  },
  {
   "cell_type": "code",
   "execution_count": 11,
   "metadata": {},
   "outputs": [
    {
     "data": {
      "text/plain": [
       "array([0], dtype=int64)"
      ]
     },
     "execution_count": 11,
     "metadata": {},
     "output_type": "execute_result"
    }
   ],
   "source": [
    "y_pred = model_data.predict(z)\n",
    "y_pred"
   ]
  },
  {
   "cell_type": "code",
   "execution_count": null,
   "metadata": {},
   "outputs": [],
   "source": []
  }
 ],
 "metadata": {
  "kernelspec": {
   "display_name": "Python 3.10.8 ('portofolio')",
   "language": "python",
   "name": "python3"
  },
  "language_info": {
   "codemirror_mode": {
    "name": "ipython",
    "version": 3
   },
   "file_extension": ".py",
   "mimetype": "text/x-python",
   "name": "python",
   "nbconvert_exporter": "python",
   "pygments_lexer": "ipython3",
   "version": "3.10.8"
  },
  "orig_nbformat": 4,
  "vscode": {
   "interpreter": {
    "hash": "6cd182019d280e9c2624f02d0f435994d3a12fd3110b026b324927bf80cb863f"
   }
  }
 },
 "nbformat": 4,
 "nbformat_minor": 2
}
